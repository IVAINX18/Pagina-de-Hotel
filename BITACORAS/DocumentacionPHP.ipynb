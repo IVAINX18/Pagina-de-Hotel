{
  "nbformat": 4,
  "nbformat_minor": 0,
  "metadata": {
    "colab": {
      "provenance": []
    },
    "kernelspec": {
      "name": "python3",
      "display_name": "Python 3"
    },
    "language_info": {
      "name": "python"
    }
  },
  "cells": [
    {
      "cell_type": "markdown",
      "source": [
        "# **Documentación de Archivos PHP**\n",
        "\n",
        "# **1. db.php**\n",
        "\n",
        "Este archivo se encarga de establecer una conexión a la base de datos utilizando PDO `(PHP Data Objects)`.\n",
        "\n",
        "# **Funcionalidad**\n",
        "\n",
        "**Conexión a la base de datos**:\n",
        "\n",
        "Define las variables necesarias para la conexión, como el host, nombre de la base de datos, usuario y contraseña.\n",
        "Manejo de excepciones: Utiliza un bloque try-catch para manejar errores en la conexión. Si ocurre un error, se muestra un mensaje y se detiene la ejecución."
      ],
      "metadata": {
        "id": "Sh-GHnmOlu6b"
      }
    },
    {
      "cell_type": "code",
      "source": [
        "$host = 'localhost'; // Define el host de la base de datos\n",
        "$dbname = 'mi_base_datos'; // Define el nombre de la base de datos\n",
        "$user = 'root'; // Define el nombre de usuario para la conexión\n",
        "$password = ''; // Define la contraseña para la conexión\n",
        "\n",
        "try {\n",
        "    // Intenta crear una nueva conexión PDO a la base de datos\n",
        "    $conn = new PDO(\"mysql:host=$host;dbname=$dbname;charset=utf8\", $user, $password);\n",
        "    // Configura el modo de error de PDO para lanzar excepciones\n",
        "    $conn->setAttribute(PDO::ATTR_ERRMODE, PDO::ERRMODE_EXCEPTION);\n",
        "} catch (PDOException $e) {\n",
        "    // Si hay un error en la conexión, se captura y se muestra un mensaje\n",
        "    die(\"Error al conectar con la base de datos: \" . $e->getMessage());\n",
        "}"
      ],
      "metadata": {
        "id": "6OUEo6lVmJYF"
      },
      "execution_count": null,
      "outputs": []
    },
    {
      "cell_type": "markdown",
      "source": [
        "**Arquitectura**\n",
        "\n",
        "Se utiliza la clase `PDO` para establecer la conexión.\n",
        "\n",
        "Se configuran atributos para manejar excepciones en caso de errores."
      ],
      "metadata": {
        "id": "VGs83U1YmkFN"
      }
    },
    {
      "cell_type": "markdown",
      "source": [
        "# **2. login.php**\n",
        "\n",
        "Este archivo maneja el proceso de inicio de sesión de un usuario.\n",
        "\n",
        "# **Funcionalidad**\n",
        "\n",
        "**Verificación del método de solicitud**: Comprueba si la solicitud es de tipo POST, lo que indica que se ha enviado un formulario de inicio de sesión.\n",
        "Consulta de usuario: Prepara y ejecuta una consulta para buscar el usuario en la base de datos.\n",
        "\n",
        "**Verificación de credenciales**: Comprueba si el usuario existe y si la contraseña proporcionada es correcta utilizando `password_verify().`"
      ],
      "metadata": {
        "id": "h7Zt3FeAm86N"
      }
    },
    {
      "cell_type": "code",
      "source": [
        "require 'db.php'; // Incluye el archivo de conexión a la base de datos\n",
        "\n",
        "if ($_SERVER['REQUEST_METHOD'] === 'POST') { // Verifica si la solicitud es de tipo POST\n",
        "    $username = $_POST['username']; // Obtiene el nombre de usuario del formulario\n",
        "    $password = $_POST['password']; // Obtiene la contraseña del formulario\n",
        "\n",
        "    // Prepara una consulta para buscar el usuario en la base de datos\n",
        "    $stmt = $conn->prepare(\"SELECT * FROM users WHERE username = :username\");\n",
        "    $stmt->bindParam(':username', $username); // Vincula el parámetro :username con el valor de $username\n",
        "    $stmt->execute(); // Ejecuta la consulta\n",
        "\n",
        "    // Obtiene los datos del usuario como un arreglo asociativo\n",
        "    $user = $stmt->fetch(PDO::FETCH_ASSOC);\n",
        "\n",
        "    // Verifica si el usuario existe y si la contraseña proporcionada es correcta\n",
        "    if ($user && password_verify($password, $user['password'])) {\n",
        "        // Si las credenciales son válidas, muestra un mensaje de bienvenida\n",
        "        echo \"Bienvenido, \" . htmlspecialchars($username) . \"!\";\n",
        "    } else {\n",
        "        // Si las credenciales son incorrectas, muestra un mensaje de error\n",
        "        echo \"Usuario o contraseña incorrectos.\";\n",
        "    }\n",
        "}"
      ],
      "metadata": {
        "id": "Su5OM4jmnXYI"
      },
      "execution_count": null,
      "outputs": []
    },
    {
      "cell_type": "markdown",
      "source": [
        "**Arquitectura**\n",
        "\n",
        "Utiliza declaraciones preparadas para evitar inyecciones SQL.\n",
        "\n",
        "Se utiliza `htmlspecialchars()` para prevenir ataques XSS al mostrar el nombre de usuario."
      ],
      "metadata": {
        "id": "4_bz8bfWnYyu"
      }
    },
    {
      "cell_type": "markdown",
      "source": [
        "# **3. register.php**\n",
        "\n",
        "Este archivo permite el registro de nuevos usuarios en la base de datos.\n",
        "\n",
        "# **Funcionalidad**\n",
        "\n",
        "**Verificación del método de solicitud**: Comprueba si la solicitud es de tipo POST para procesar el formulario de registro.\n",
        "\n",
        "**Comprobación de existencia de usuario**: Verifica si el nombre de usuario ya está registrado.\n",
        "\n",
        "**Registro de nuevo usuario**: Si el usuario no existe, se inserta en la base de datos con la contraseña cifrada."
      ],
      "metadata": {
        "id": "wfKRFo5snlGF"
      }
    },
    {
      "cell_type": "code",
      "source": [
        "require 'db.php'; // Incluye el archivo de conexión a la base de datos\n",
        "\n",
        "if ($_SERVER['REQUEST_METHOD'] === 'POST') { // Verifica si la solicitud es de tipo POST\n",
        "    $username = $_POST['username']; // Obtiene el nombre de usuario del formulario\n",
        "    $password = $_POST['password']; // Obtiene la contraseña del formulario\n",
        "\n",
        "    // Prepara una consulta para verificar si el usuario ya existe\n",
        "    $stmt = $conn->prepare(\"SELECT * FROM users WHERE username = :username\");\n",
        "    $stmt->bindParam(':username', $username); // Vincula el parámetro :username con el valor de $username\n",
        "    $stmt->execute(); // Ejecuta la consulta\n",
        "\n",
        "    if ($stmt->rowCount() > 0) { // Verifica si hay resultados (usuario ya existe)\n",
        "        echo \"El usuario ya está registrado.\"; // Mensaje si el usuario ya existe\n",
        "    } else {\n",
        "        // Cifra la contraseña antes de almacenarla\n",
        "        $hashed_password = password_hash($password, PASSWORD_DEFAULT);\n",
        "\n",
        "        // Prepara una consulta para insertar el nuevo usuario\n",
        "        $stmt = $conn->prepare(\"INSERT INTO users (username, password) VALUES (:username, :password)\");\n",
        "        $stmt->bindParam(':username', $username); // Vincula el parámetro :username\n",
        "        $stmt->bindParam(':password', $hashed_password); // Vincula el parámetro :password\n",
        "\n",
        "        if ($stmt->execute()) { // Ejecuta la consulta de inserción\n",
        "            echo \"Usuario registrado exitosamente.\"; // Mensaje de éxito\n",
        "        } else {\n",
        "            echo \"Error al registrar el usuario.\"; // Mensaje de error\n",
        "        }\n",
        "    }\n",
        "}"
      ],
      "metadata": {
        "id": "6z5YgKXLn3ub"
      },
      "execution_count": null,
      "outputs": []
    },
    {
      "cell_type": "markdown",
      "source": [
        "**Arquitectura**\n",
        "\n",
        "Utiliza `password_hash()` para cifrar la contraseña del usuario antes de almacenarla en la base de datos.\n",
        "\n",
        "Se utilizan declaraciones preparadas para evitar inyecciones SQL.\n"
      ],
      "metadata": {
        "id": "dHsUfZTin8MA"
      }
    },
    {
      "cell_type": "markdown",
      "source": [
        "# **4. test.php**\n",
        "\n",
        "Este archivo se utiliza para verificar la conexión a la base de datos.\n",
        "\n",
        "# **Funcionalidad**\n",
        "\n",
        "**Verificación de conexión**: Comprueba si la conexión a la base de datos se ha establecido correctamente y muestra un mensaje correspondiente."
      ],
      "metadata": {
        "id": "ENvFKOkBoKWM"
      }
    },
    {
      "cell_type": "code",
      "source": [
        "require 'db.php'; // Incluye el archivo de conexión a la base de datos\n",
        "\n",
        "if ($conn) { // Verifica si la conexión fue exitosa\n",
        "    echo \"Conexión exitosa a la base de datos.\"; // Mensaje de éxito\n",
        "} else {\n",
        "    echo \"Error al conectar.\"; // Mensaje de error\n",
        "}"
      ],
      "metadata": {
        "id": "vNrM1lpnoSj0"
      },
      "execution_count": null,
      "outputs": []
    },
    {
      "cell_type": "markdown",
      "source": [
        "**Arquitectura**\n",
        "\n",
        "Simplemente verifica si la variable `$conn` está establecida, lo que indica que la conexión fue exitosa.\n"
      ],
      "metadata": {
        "id": "L_K5PMXYoW6c"
      }
    }
  ]
}